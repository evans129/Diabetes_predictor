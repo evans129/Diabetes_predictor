{
 "cells": [
  {
   "cell_type": "markdown",
   "id": "f99adf3f",
   "metadata": {},
   "source": [
    "# Using SUPPORT VECTOR MACHINE on Diabetes dataset\n",
    "## Diabetes Prediction"
   ]
  },
  {
   "cell_type": "markdown",
   "id": "0c51d285",
   "metadata": {},
   "source": [
    "Importing libraries"
   ]
  },
  {
   "cell_type": "code",
   "execution_count": 1,
   "id": "8afcdb21",
   "metadata": {},
   "outputs": [],
   "source": [
    "import numpy as np\n",
    "import pandas as pd\n",
    "from sklearn.preprocessing import StandardScaler\n",
    "from sklearn.model_selection import train_test_split\n",
    "from sklearn import svm"
   ]
  },
  {
   "cell_type": "markdown",
   "id": "e710c035",
   "metadata": {},
   "source": [
    "Data Collection and analysis"
   ]
  },
  {
   "cell_type": "code",
   "execution_count": 2,
   "id": "5c549491",
   "metadata": {},
   "outputs": [],
   "source": [
    "#loading diabetes dataset\n",
    "dataset=pd.read_csv(\"diabetes.csv\")"
   ]
  },
  {
   "cell_type": "code",
   "execution_count": 3,
   "id": "3c9ffcbf",
   "metadata": {},
   "outputs": [
    {
     "name": "stdout",
     "output_type": "stream",
     "text": [
      "   Pregnancies  Glucose  BloodPressure  SkinThickness  Insulin   BMI  \\\n",
      "0            6      148             72             35        0  33.6   \n",
      "1            1       85             66             29        0  26.6   \n",
      "2            8      183             64              0        0  23.3   \n",
      "3            1       89             66             23       94  28.1   \n",
      "4            0      137             40             35      168  43.1   \n",
      "\n",
      "   DiabetesPedigreeFunction  Age  Outcome  \n",
      "0                     0.627   50        1  \n",
      "1                     0.351   31        0  \n",
      "2                     0.672   32        1  \n",
      "3                     0.167   21        0  \n",
      "4                     2.288   33        1  \n"
     ]
    }
   ],
   "source": [
    "print(dataset.head())"
   ]
  },
  {
   "cell_type": "code",
   "execution_count": 4,
   "id": "bcb2f7d4",
   "metadata": {},
   "outputs": [
    {
     "name": "stdout",
     "output_type": "stream",
     "text": [
      "(768, 9)\n"
     ]
    }
   ],
   "source": [
    "print(dataset.shape)"
   ]
  },
  {
   "cell_type": "code",
   "execution_count": 5,
   "id": "c66df642",
   "metadata": {},
   "outputs": [
    {
     "name": "stdout",
     "output_type": "stream",
     "text": [
      "       Pregnancies     Glucose  BloodPressure  SkinThickness     Insulin  \\\n",
      "count   768.000000  768.000000     768.000000     768.000000  768.000000   \n",
      "mean      3.845052  120.894531      69.105469      20.536458   79.799479   \n",
      "std       3.369578   31.972618      19.355807      15.952218  115.244002   \n",
      "min       0.000000    0.000000       0.000000       0.000000    0.000000   \n",
      "25%       1.000000   99.000000      62.000000       0.000000    0.000000   \n",
      "50%       3.000000  117.000000      72.000000      23.000000   30.500000   \n",
      "75%       6.000000  140.250000      80.000000      32.000000  127.250000   \n",
      "max      17.000000  199.000000     122.000000      99.000000  846.000000   \n",
      "\n",
      "              BMI  DiabetesPedigreeFunction         Age     Outcome  \n",
      "count  768.000000                768.000000  768.000000  768.000000  \n",
      "mean    31.992578                  0.471876   33.240885    0.348958  \n",
      "std      7.884160                  0.331329   11.760232    0.476951  \n",
      "min      0.000000                  0.078000   21.000000    0.000000  \n",
      "25%     27.300000                  0.243750   24.000000    0.000000  \n",
      "50%     32.000000                  0.372500   29.000000    0.000000  \n",
      "75%     36.600000                  0.626250   41.000000    1.000000  \n",
      "max     67.100000                  2.420000   81.000000    1.000000  \n"
     ]
    }
   ],
   "source": [
    "print(dataset.describe())"
   ]
  },
  {
   "cell_type": "code",
   "execution_count": 6,
   "id": "0ce8f9a6",
   "metadata": {},
   "outputs": [
    {
     "name": "stdout",
     "output_type": "stream",
     "text": [
      "0    500\n",
      "1    268\n",
      "Name: Outcome, dtype: int64\n"
     ]
    }
   ],
   "source": [
    "print(dataset['Outcome'].value_counts())"
   ]
  },
  {
   "cell_type": "markdown",
   "id": "04f4602c",
   "metadata": {},
   "source": [
    "0->Non Diabetic\n",
    "1->Diabetic"
   ]
  },
  {
   "cell_type": "markdown",
   "id": "c7cfde5e",
   "metadata": {},
   "source": [
    "Splitting our datasets into training and testing data"
   ]
  },
  {
   "cell_type": "code",
   "execution_count": 7,
   "id": "415ea18d",
   "metadata": {},
   "outputs": [],
   "source": [
    "X=dataset.drop(dataset.iloc[:,8:9],axis=1)"
   ]
  },
  {
   "cell_type": "code",
   "execution_count": 8,
   "id": "dcf5fd17",
   "metadata": {},
   "outputs": [
    {
     "name": "stdout",
     "output_type": "stream",
     "text": [
      "     Pregnancies  Glucose  BloodPressure  SkinThickness  Insulin   BMI  \\\n",
      "0              6      148             72             35        0  33.6   \n",
      "1              1       85             66             29        0  26.6   \n",
      "2              8      183             64              0        0  23.3   \n",
      "3              1       89             66             23       94  28.1   \n",
      "4              0      137             40             35      168  43.1   \n",
      "..           ...      ...            ...            ...      ...   ...   \n",
      "763           10      101             76             48      180  32.9   \n",
      "764            2      122             70             27        0  36.8   \n",
      "765            5      121             72             23      112  26.2   \n",
      "766            1      126             60              0        0  30.1   \n",
      "767            1       93             70             31        0  30.4   \n",
      "\n",
      "     DiabetesPedigreeFunction  Age  \n",
      "0                       0.627   50  \n",
      "1                       0.351   31  \n",
      "2                       0.672   32  \n",
      "3                       0.167   21  \n",
      "4                       2.288   33  \n",
      "..                        ...  ...  \n",
      "763                     0.171   63  \n",
      "764                     0.340   27  \n",
      "765                     0.245   30  \n",
      "766                     0.349   47  \n",
      "767                     0.315   23  \n",
      "\n",
      "[768 rows x 8 columns]\n"
     ]
    }
   ],
   "source": [
    "print(X)"
   ]
  },
  {
   "cell_type": "code",
   "execution_count": 9,
   "id": "bd15c723",
   "metadata": {},
   "outputs": [],
   "source": [
    "Y=dataset.iloc[:,8:9]"
   ]
  },
  {
   "cell_type": "code",
   "execution_count": 10,
   "id": "645314bf",
   "metadata": {},
   "outputs": [
    {
     "name": "stdout",
     "output_type": "stream",
     "text": [
      "     Outcome\n",
      "0          1\n",
      "1          0\n",
      "2          1\n",
      "3          0\n",
      "4          1\n",
      "..       ...\n",
      "763        0\n",
      "764        0\n",
      "765        0\n",
      "766        1\n",
      "767        0\n",
      "\n",
      "[768 rows x 1 columns]\n"
     ]
    }
   ],
   "source": [
    "print(Y)"
   ]
  },
  {
   "cell_type": "markdown",
   "id": "0aec10ee",
   "metadata": {},
   "source": [
    "Data Standarisation"
   ]
  },
  {
   "cell_type": "code",
   "execution_count": 11,
   "id": "3dd8332a",
   "metadata": {},
   "outputs": [],
   "source": [
    "scaler=StandardScaler()"
   ]
  },
  {
   "cell_type": "code",
   "execution_count": 12,
   "id": "fdd69e35",
   "metadata": {},
   "outputs": [],
   "source": [
    "X_=scaler.fit_transform(X)"
   ]
  },
  {
   "cell_type": "code",
   "execution_count": 13,
   "id": "b46be3b3",
   "metadata": {},
   "outputs": [
    {
     "name": "stdout",
     "output_type": "stream",
     "text": [
      "[[ 0.63994726  0.84832379  0.14964075 ...  0.20401277  0.46849198\n",
      "   1.4259954 ]\n",
      " [-0.84488505 -1.12339636 -0.16054575 ... -0.68442195 -0.36506078\n",
      "  -0.19067191]\n",
      " [ 1.23388019  1.94372388 -0.26394125 ... -1.10325546  0.60439732\n",
      "  -0.10558415]\n",
      " ...\n",
      " [ 0.3429808   0.00330087  0.14964075 ... -0.73518964 -0.68519336\n",
      "  -0.27575966]\n",
      " [-0.84488505  0.1597866  -0.47073225 ... -0.24020459 -0.37110101\n",
      "   1.17073215]\n",
      " [-0.84488505 -0.8730192   0.04624525 ... -0.20212881 -0.47378505\n",
      "  -0.87137393]]\n"
     ]
    }
   ],
   "source": [
    "print(X_)"
   ]
  },
  {
   "cell_type": "code",
   "execution_count": 14,
   "id": "6335d573",
   "metadata": {},
   "outputs": [
    {
     "name": "stdout",
     "output_type": "stream",
     "text": [
      "     Outcome\n",
      "0          1\n",
      "1          0\n",
      "2          1\n",
      "3          0\n",
      "4          1\n",
      "..       ...\n",
      "763        0\n",
      "764        0\n",
      "765        0\n",
      "766        1\n",
      "767        0\n",
      "\n",
      "[768 rows x 1 columns]\n"
     ]
    }
   ],
   "source": [
    "print(Y)"
   ]
  },
  {
   "cell_type": "markdown",
   "id": "e8e3338e",
   "metadata": {},
   "source": [
    "Splitting data"
   ]
  },
  {
   "cell_type": "code",
   "execution_count": 15,
   "id": "f44e1294",
   "metadata": {},
   "outputs": [],
   "source": [
    "X_train,X_test,Y_train,Y_test=train_test_split(X_,Y,test_size=0.3,stratify=Y,random_state=2)"
   ]
  },
  {
   "cell_type": "markdown",
   "id": "7bd05d11",
   "metadata": {},
   "source": [
    "Training the Model using SVM"
   ]
  },
  {
   "cell_type": "code",
   "execution_count": 16,
   "id": "fbc54dea",
   "metadata": {},
   "outputs": [],
   "source": [
    "model_classifier=svm.SVC(kernel='linear')"
   ]
  },
  {
   "cell_type": "code",
   "execution_count": 17,
   "id": "7b421836",
   "metadata": {},
   "outputs": [
    {
     "data": {
      "text/plain": [
       "SVC(kernel='linear')"
      ]
     },
     "execution_count": 17,
     "metadata": {},
     "output_type": "execute_result"
    }
   ],
   "source": [
    "model_classifier.fit(X_train,Y_train.values.ravel())"
   ]
  },
  {
   "cell_type": "markdown",
   "id": "60dd6053",
   "metadata": {},
   "source": [
    "Model Evaluation and score"
   ]
  },
  {
   "cell_type": "code",
   "execution_count": 18,
   "id": "798ee3e5",
   "metadata": {},
   "outputs": [
    {
     "name": "stdout",
     "output_type": "stream",
     "text": [
      "Accuracy score of the model is  77.48917748917748 %\n"
     ]
    }
   ],
   "source": [
    "print(\"Accuracy score of the model is \",model_classifier.score(X_test,Y_test)*100,'%')\n",
    "rows,columns=X_test.shape"
   ]
  },
  {
   "cell_type": "markdown",
   "id": "eda2bfb4",
   "metadata": {},
   "source": [
    "## Predicting Diabetes or not"
   ]
  },
  {
   "cell_type": "code",
   "execution_count": 19,
   "id": "8876c097",
   "metadata": {},
   "outputs": [
    {
     "name": "stdout",
     "output_type": "stream",
     "text": [
      "[[-8.44885053e-01  7.85729504e-01 -6.77523246e-01 ... -2.90972286e-01\n",
      "   2.78224501e-01 -3.60847411e-01]\n",
      " [-8.44885053e-01 -7.47830617e-01  4.62452528e-02 ... -1.75054361e+00\n",
      "  -9.81164988e-01 -1.04154944e+00]\n",
      " [ 9.36913723e-01  5.04055196e-01  1.08020025e+00 ...  9.41978774e-04\n",
      "  -2.44256030e-01  4.90030120e-01]\n",
      " ...\n",
      " [-8.44885053e-01 -3.78365371e+00 -1.09110524e+00 ... -9.25568512e-01\n",
      "  -1.00230582e+00 -9.56461683e-01]\n",
      " [-5.47918591e-01 -6.22642036e-01 -5.74127746e-01 ... -9.89028135e-01\n",
      "   4.29230435e-01 -8.71373930e-01]\n",
      " [-2.50952128e-01  1.53686099e+00 -2.63941247e-01 ...  3.18240092e-01\n",
      "  -3.49960184e-01 -2.75759658e-01]]\n",
      "Prediction on test data\n",
      "The patient is diabetic\n",
      "The patient is diabetic\n",
      "The patient is not diabetic\n",
      "The patient is not diabetic\n",
      "The patient is diabetic\n",
      "The patient is diabetic\n",
      "The patient is diabetic\n",
      "The patient is not diabetic\n",
      "The patient is diabetic\n",
      "The patient is diabetic\n",
      "The patient is diabetic\n",
      "The patient is diabetic\n",
      "The patient is not diabetic\n",
      "The patient is diabetic\n",
      "The patient is diabetic\n",
      "The patient is diabetic\n",
      "The patient is diabetic\n",
      "The patient is diabetic\n",
      "The patient is diabetic\n",
      "The patient is diabetic\n",
      "The patient is diabetic\n",
      "The patient is not diabetic\n",
      "The patient is diabetic\n",
      "The patient is diabetic\n",
      "The patient is diabetic\n",
      "The patient is diabetic\n",
      "The patient is diabetic\n",
      "The patient is diabetic\n",
      "The patient is not diabetic\n",
      "The patient is not diabetic\n",
      "The patient is not diabetic\n",
      "The patient is not diabetic\n",
      "The patient is diabetic\n",
      "The patient is diabetic\n",
      "The patient is diabetic\n",
      "The patient is diabetic\n",
      "The patient is diabetic\n",
      "The patient is diabetic\n",
      "The patient is diabetic\n",
      "The patient is diabetic\n",
      "The patient is diabetic\n",
      "The patient is diabetic\n",
      "The patient is diabetic\n",
      "The patient is not diabetic\n",
      "The patient is not diabetic\n",
      "The patient is diabetic\n",
      "The patient is diabetic\n",
      "The patient is diabetic\n",
      "The patient is diabetic\n",
      "The patient is diabetic\n",
      "The patient is diabetic\n",
      "The patient is diabetic\n",
      "The patient is not diabetic\n",
      "The patient is diabetic\n",
      "The patient is not diabetic\n",
      "The patient is diabetic\n",
      "The patient is diabetic\n",
      "The patient is diabetic\n",
      "The patient is diabetic\n",
      "The patient is diabetic\n",
      "The patient is diabetic\n",
      "The patient is diabetic\n",
      "The patient is diabetic\n",
      "The patient is not diabetic\n",
      "The patient is diabetic\n",
      "The patient is diabetic\n",
      "The patient is not diabetic\n",
      "The patient is diabetic\n",
      "The patient is diabetic\n",
      "The patient is diabetic\n",
      "The patient is diabetic\n",
      "The patient is diabetic\n",
      "The patient is not diabetic\n",
      "The patient is diabetic\n",
      "The patient is diabetic\n",
      "The patient is diabetic\n",
      "The patient is not diabetic\n",
      "The patient is diabetic\n",
      "The patient is diabetic\n",
      "The patient is diabetic\n",
      "The patient is not diabetic\n",
      "The patient is diabetic\n",
      "The patient is diabetic\n",
      "The patient is not diabetic\n",
      "The patient is not diabetic\n",
      "The patient is diabetic\n",
      "The patient is not diabetic\n",
      "The patient is diabetic\n",
      "The patient is diabetic\n",
      "The patient is not diabetic\n",
      "The patient is diabetic\n",
      "The patient is diabetic\n",
      "The patient is diabetic\n",
      "The patient is diabetic\n",
      "The patient is diabetic\n",
      "The patient is diabetic\n",
      "The patient is diabetic\n",
      "The patient is not diabetic\n",
      "The patient is diabetic\n",
      "The patient is diabetic\n",
      "The patient is diabetic\n",
      "The patient is diabetic\n",
      "The patient is diabetic\n",
      "The patient is diabetic\n",
      "The patient is diabetic\n",
      "The patient is not diabetic\n",
      "The patient is diabetic\n",
      "The patient is diabetic\n",
      "The patient is diabetic\n",
      "The patient is not diabetic\n",
      "The patient is diabetic\n",
      "The patient is diabetic\n",
      "The patient is diabetic\n",
      "The patient is diabetic\n",
      "The patient is not diabetic\n",
      "The patient is diabetic\n",
      "The patient is diabetic\n",
      "The patient is not diabetic\n",
      "The patient is diabetic\n",
      "The patient is diabetic\n",
      "The patient is not diabetic\n",
      "The patient is diabetic\n",
      "The patient is not diabetic\n",
      "The patient is diabetic\n",
      "The patient is diabetic\n",
      "The patient is diabetic\n",
      "The patient is diabetic\n",
      "The patient is diabetic\n",
      "The patient is diabetic\n",
      "The patient is diabetic\n",
      "The patient is diabetic\n",
      "The patient is diabetic\n",
      "The patient is diabetic\n",
      "The patient is diabetic\n",
      "The patient is diabetic\n",
      "The patient is diabetic\n",
      "The patient is diabetic\n",
      "The patient is diabetic\n",
      "The patient is diabetic\n",
      "The patient is not diabetic\n",
      "The patient is diabetic\n",
      "The patient is diabetic\n",
      "The patient is not diabetic\n",
      "The patient is diabetic\n",
      "The patient is diabetic\n",
      "The patient is not diabetic\n",
      "The patient is diabetic\n",
      "The patient is diabetic\n",
      "The patient is not diabetic\n",
      "The patient is not diabetic\n",
      "The patient is not diabetic\n",
      "The patient is diabetic\n",
      "The patient is diabetic\n",
      "The patient is diabetic\n",
      "The patient is diabetic\n",
      "The patient is diabetic\n",
      "The patient is not diabetic\n",
      "The patient is diabetic\n",
      "The patient is diabetic\n",
      "The patient is diabetic\n",
      "The patient is diabetic\n",
      "The patient is not diabetic\n",
      "The patient is diabetic\n",
      "The patient is diabetic\n",
      "The patient is diabetic\n",
      "The patient is diabetic\n",
      "The patient is diabetic\n",
      "The patient is diabetic\n",
      "The patient is diabetic\n",
      "The patient is diabetic\n",
      "The patient is diabetic\n",
      "The patient is not diabetic\n",
      "The patient is diabetic\n",
      "The patient is diabetic\n",
      "The patient is not diabetic\n",
      "The patient is diabetic\n",
      "The patient is diabetic\n",
      "The patient is diabetic\n",
      "The patient is diabetic\n",
      "The patient is diabetic\n",
      "The patient is diabetic\n",
      "The patient is diabetic\n",
      "The patient is diabetic\n",
      "The patient is diabetic\n",
      "The patient is diabetic\n",
      "The patient is diabetic\n",
      "The patient is diabetic\n",
      "The patient is diabetic\n",
      "The patient is diabetic\n",
      "The patient is diabetic\n",
      "The patient is diabetic\n",
      "The patient is diabetic\n",
      "The patient is diabetic\n",
      "The patient is diabetic\n",
      "The patient is diabetic\n",
      "The patient is diabetic\n",
      "The patient is diabetic\n",
      "The patient is diabetic\n",
      "The patient is not diabetic\n",
      "The patient is diabetic\n",
      "The patient is diabetic\n",
      "The patient is not diabetic\n",
      "The patient is diabetic\n",
      "The patient is diabetic\n",
      "The patient is diabetic\n",
      "The patient is diabetic\n",
      "The patient is diabetic\n",
      "The patient is diabetic\n",
      "The patient is not diabetic\n",
      "The patient is not diabetic\n",
      "The patient is not diabetic\n",
      "The patient is not diabetic\n",
      "The patient is diabetic\n",
      "The patient is diabetic\n",
      "The patient is diabetic\n",
      "The patient is diabetic\n",
      "The patient is diabetic\n",
      "The patient is diabetic\n",
      "The patient is not diabetic\n",
      "The patient is diabetic\n",
      "The patient is not diabetic\n",
      "The patient is diabetic\n",
      "The patient is not diabetic\n",
      "The patient is diabetic\n",
      "The patient is diabetic\n",
      "The patient is not diabetic\n",
      "The patient is not diabetic\n",
      "The patient is diabetic\n",
      "The patient is diabetic\n",
      "The patient is diabetic\n",
      "The patient is not diabetic\n"
     ]
    }
   ],
   "source": [
    "print(X_test)\n",
    "prediction=model_classifier.predict(X_test)\n",
    "print(\"Prediction on test data\")\n",
    "for i in range(0,rows,1):\n",
    " if(prediction[i]==0):\n",
    "  print(\"The patient is diabetic\")\n",
    " else:\n",
    "  print(\"The patient is not diabetic\")"
   ]
  },
  {
   "cell_type": "markdown",
   "id": "8f76c0e8",
   "metadata": {},
   "source": [
    "Testing data on single instance"
   ]
  },
  {
   "cell_type": "code",
   "execution_count": 23,
   "id": "b5cdb19d",
   "metadata": {},
   "outputs": [
    {
     "name": "stdout",
     "output_type": "stream",
     "text": [
      "Given data\n",
      "[7, 181, 84, 21, 192, 35.9, 0.586, 51]\n",
      "Outcome predicted: 1\n",
      "The patient is having diabetes\n"
     ]
    }
   ],
   "source": [
    "print(\"Given data\")\n",
    "input_data=[7,181,84,21,192,35.9,0.586,51]\n",
    "print(input_data)\n",
    "numpy_data=np.array(input_data)\n",
    "data=numpy_data.reshape(1,-1)\n",
    "std_data=scaler.transform(data)\n",
    "prediction=model_classifier.predict(std_data)\n",
    "print(\"Outcome predicted: \",end=\"\")\n",
    "print(prediction[0])\n",
    "if(prediction[0]==1):\n",
    "    print(\"The patient is having diabetes\")\n",
    "else:\n",
    "    print(\"The patient is non diabetic\")"
   ]
  }
 ],
 "metadata": {
  "kernelspec": {
   "display_name": "Python 3 (ipykernel)",
   "language": "python",
   "name": "python3"
  },
  "language_info": {
   "codemirror_mode": {
    "name": "ipython",
    "version": 3
   },
   "file_extension": ".py",
   "mimetype": "text/x-python",
   "name": "python",
   "nbconvert_exporter": "python",
   "pygments_lexer": "ipython3",
   "version": "3.9.7"
  }
 },
 "nbformat": 4,
 "nbformat_minor": 5
}
